{
 "cells": [
  {
   "cell_type": "code",
   "execution_count": 4,
   "id": "d31d4917",
   "metadata": {},
   "outputs": [
    {
     "name": "stdout",
     "output_type": "stream",
     "text": [
      "WA -> R\n",
      "NT -> G\n",
      "SA -> B\n",
      "Q -> R\n",
      "NSW -> G\n",
      "V -> R\n"
     ]
    }
   ],
   "source": [
    "from pysat.solvers import Glucose3\n",
    "from pysat.formula import CNF\n",
    "\n",
    "def australia_map_sat_solver():\n",
    "    # Create a SAT solver instance\n",
    "    solver = Glucose3()\n",
    "\n",
    "    # Variables representing colors for each region\n",
    "    colors = ['R', 'G', 'B']\n",
    "\n",
    "    # Assign variable indices for each region and color\n",
    "    variable_indices = {}\n",
    "    for region in australia_map:\n",
    "        for color in colors:\n",
    "            variable = f\"{region}_{color}\"\n",
    "            variable_indices[variable] = len(variable_indices) + 1\n",
    "\n",
    "    # Create CNF formula\n",
    "    cnf_formula = CNF()\n",
    "\n",
    "    # Constraint 1: Each region must be assigned exactly one color\n",
    "    for region in australia_map:\n",
    "        region_variables = [variable_indices[f\"{region}_{color}\"] for color in colors]\n",
    "        cnf_formula.append(region_variables)\n",
    "\n",
    "        for i in range(len(region_variables)):\n",
    "            for j in range(i + 1, len(region_variables)):\n",
    "                cnf_formula.append([-region_variables[i], -region_variables[j]])\n",
    "\n",
    "    # Constraint 2: Adjacent regions must have different colors\n",
    "    for region, neighbors in australia_map.items():\n",
    "        for neighbor in neighbors:\n",
    "            for color in colors:\n",
    "                cnf_formula.append([-variable_indices[f\"{region}_{color}\"], -variable_indices[f\"{neighbor}_{color}\"]])\n",
    "\n",
    "    # Add CNF formula to the solver\n",
    "    solver.append_formula(cnf_formula.clauses)\n",
    "\n",
    "    # Solve the SAT problem\n",
    "    if solver.solve():\n",
    "        # Get the solution\n",
    "        solution = solver.get_model()\n",
    "\n",
    "        # Extract the colors assigned to each region\n",
    "        region_colors = {}\n",
    "        for region, index in variable_indices.items():\n",
    "            if solution[index - 1] > 0:\n",
    "                region_name, color = region.split('_')\n",
    "                region_colors[region_name] = color\n",
    "\n",
    "        # Print the solution\n",
    "        for region, color in region_colors.items():\n",
    "            print(f\"{region} -> {color}\")\n",
    "    else:\n",
    "        print(\"No solution found.\")\n",
    "\n",
    "# Australia map with regions and their adjacent regions\n",
    "australia_map = {\n",
    "    'WA': ['NT', 'SA'],\n",
    "    'NT': ['WA', 'SA', 'Q'],\n",
    "    'SA': ['WA', 'NT', 'Q', 'NSW', 'V'],\n",
    "    'Q': ['NT', 'SA', 'NSW'],\n",
    "    'NSW': ['Q', 'SA', 'V'],\n",
    "    'V': ['SA', 'NSW']\n",
    "}\n",
    "\n",
    "# Solve the Australia map coloring problem using SAT solver\n",
    "australia_map_sat_solver()\n"
   ]
  },
  {
   "cell_type": "code",
   "execution_count": null,
   "id": "48cc3be5",
   "metadata": {},
   "outputs": [],
   "source": []
  }
 ],
 "metadata": {
  "kernelspec": {
   "display_name": "Python 3 (ipykernel)",
   "language": "python",
   "name": "python3"
  },
  "language_info": {
   "codemirror_mode": {
    "name": "ipython",
    "version": 3
   },
   "file_extension": ".py",
   "mimetype": "text/x-python",
   "name": "python",
   "nbconvert_exporter": "python",
   "pygments_lexer": "ipython3",
   "version": "3.11.5"
  }
 },
 "nbformat": 4,
 "nbformat_minor": 5
}
